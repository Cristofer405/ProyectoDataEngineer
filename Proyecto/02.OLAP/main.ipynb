{
 "cells": [
  {
   "cell_type": "code",
   "execution_count": 2,
   "metadata": {},
   "outputs": [],
   "source": [
    "import pandas as pd\n",
    "from utils import connection as con\n",
    "from etl import extract as ex\n",
    "from etl import load\n",
    "from etl import transform as t"
   ]
  },
  {
   "cell_type": "code",
   "execution_count": 4,
   "metadata": {},
   "outputs": [],
   "source": [
    "conn_db = con.connect_db()\n",
    "conn_dw = con.connect_dw()"
   ]
  },
  {
   "cell_type": "code",
   "execution_count": 5,
   "metadata": {},
   "outputs": [],
   "source": [
    "# Pasamos los datos de las tablas a su DataFrame\n",
    "\n",
    "df_categoria = ex.extract_only_table(\"Categoria\", conn_db)\n",
    "df_subcategoria = ex.extract_only_table(\"SubCategoria\", conn_db)\n",
    "df_carta = ex.extract_only_table(\"Carta\", conn_db)\n",
    "\n",
    "df_mesa = ex.extract_only_table(\"Mesa\", conn_db)\n",
    "df_clientes = ex.extract_only_table(\"Clientes\", conn_db)\n",
    "df_distrito = ex.extract_only_table(\"Distrito\", conn_db).rename(columns={'Descripcion' : 'Distrito'})\n",
    "df_direccion = ex.extract_only_table(\"Direcciones\", conn_db)\n",
    "df_local = ex.extract_only_table(\"Local\", conn_db)\n",
    "df_trabajador = ex.extract_only_table(\"Trabajador\", conn_db)\n",
    "\n",
    "df_pedidosdetalle = ex.extract_only_table(\"PedidosDetalle\", conn_db)\n"
   ]
  },
  {
   "cell_type": "markdown",
   "metadata": {},
   "source": [
    "Reemplazando IDs por descripciones"
   ]
  },
  {
   "cell_type": "code",
   "execution_count": 6,
   "metadata": {},
   "outputs": [],
   "source": [
    "# Reemplazamos el idDistrito por su descripción.\n",
    "df_direccion_dw = df_direccion.merge(df_distrito, on='idDistrito', how='left')[['idDirecciones','Descripcion','Distrito','idClientes','Estado']]\n",
    "\n",
    "df_local_dw = df_local.merge(df_distrito, on='idDistrito', how='left')[['idLocal','NombreLocal','Direccion','Distrito','HorarioAtencion']]\n"
   ]
  },
  {
   "cell_type": "code",
   "execution_count": 7,
   "metadata": {},
   "outputs": [],
   "source": [
    "# Reemplazamos el idCategoria y idSubCategoria para la carta y ponemos sus descripciones.\n",
    "df_carta_dw = df_carta.merge(df_subcategoria.rename(columns={'nombre' : 'SubCategoria'}), on='idSubCategoria', how='left')\\\n",
    "                      .merge(df_categoria.rename(columns={'Nombre' : 'Categoria'}), on='idCategoria', how='left')\\\n",
    "                      [['idCarta','Nombre','Descripcion','Precio','Estado','Categoria','SubCategoria']]\n"
   ]
  },
  {
   "cell_type": "code",
   "execution_count": 8,
   "metadata": {},
   "outputs": [],
   "source": [
    "# Reemplazamos el idLocal por su descripción.\n",
    "df_trabajador_dw = df_trabajador.merge(df_local.rename(columns={'NombreLocal' : 'Local'}), on='idLocal', how='left')\\\n",
    "                                [['idTrabajador','ApellidosNombres','Local']]\n"
   ]
  },
  {
   "cell_type": "markdown",
   "metadata": {},
   "source": [
    "Cargando los datos a las dimensiones"
   ]
  },
  {
   "cell_type": "code",
   "execution_count": 98,
   "metadata": {},
   "outputs": [
    {
     "data": {
      "text/plain": [
       "135"
      ]
     },
     "execution_count": 98,
     "metadata": {},
     "output_type": "execute_result"
    }
   ],
   "source": [
    "load.load_dw(\"Dim_Carta\", conn_dw, df_carta_dw)"
   ]
  },
  {
   "cell_type": "code",
   "execution_count": 9,
   "metadata": {},
   "outputs": [],
   "source": [
    "load.load_dw(\"Dim_Mesa\", conn_dw, df_mesa)"
   ]
  },
  {
   "cell_type": "code",
   "execution_count": 10,
   "metadata": {},
   "outputs": [],
   "source": [
    "load.load_dw(\"Dim_Local\", conn_dw, df_local_dw)"
   ]
  },
  {
   "cell_type": "code",
   "execution_count": 11,
   "metadata": {},
   "outputs": [],
   "source": [
    "load.load_dw(\"Dim_Trabajador\", conn_dw, df_trabajador_dw)"
   ]
  },
  {
   "cell_type": "code",
   "execution_count": 12,
   "metadata": {},
   "outputs": [],
   "source": [
    "load.load_dw(\"Dim_Clientes\", conn_dw, df_clientes)"
   ]
  },
  {
   "cell_type": "code",
   "execution_count": 13,
   "metadata": {},
   "outputs": [],
   "source": [
    "load.load_dw(\"Dim_Direcciones\", conn_dw, df_direccion_dw)"
   ]
  },
  {
   "cell_type": "code",
   "execution_count": 12,
   "metadata": {},
   "outputs": [],
   "source": [
    "query = \"\"\"\n",
    "SELECT DISTINCT \n",
    "DATE_FORMAT(Fecha, '%%Y%%m%%d') AS idTiempo,\n",
    "YEAR(Fecha) AS Anio,\n",
    "MONTH(Fecha) AS Mes,\n",
    "DAY(Fecha) AS Dia,\n",
    "QUARTER(Fecha) AS Trimestre,\n",
    "DAYOFWEEK(Fecha) AS DiaSemana,\n",
    "DAYOFYEAR(Fecha) AS DiaAnio,\n",
    "WEEK(Fecha) AS SemanaAnio,\n",
    "CASE WHEN DAYOFWEEK(Fecha) IN (1,7) THEN TRUE ELSE FALSE END AS FinSemana\n",
    "FROM Pedidos\n",
    "\"\"\"\n",
    "\n",
    "df_dim_tiempo = t.transform_time_from_pedido(query, conn_db)"
   ]
  },
  {
   "cell_type": "code",
   "execution_count": 13,
   "metadata": {},
   "outputs": [],
   "source": [
    "load.load_dw(\"Dim_Tiempo\", conn_dw, df_dim_tiempo)"
   ]
  },
  {
   "cell_type": "code",
   "execution_count": null,
   "metadata": {},
   "outputs": [],
   "source": []
  },
  {
   "cell_type": "code",
   "execution_count": 14,
   "metadata": {},
   "outputs": [
    {
     "name": "stdout",
     "output_type": "stream",
     "text": [
      "(MySQLdb.IntegrityError) (1452, 'Cannot add or update a child row: a foreign key constraint fails (`dw_restaurante`.`Dim_PedidosDetalle`, CONSTRAINT `fk_PedidosDetalle_Pedidos1` FOREIGN KEY (`idPedidos`) REFERENCES `Hec_Fact_Pedidos` (`idPedidos`))')\n",
      "[SQL: INSERT INTO `Dim_PedidosDetalle` (`idPedidos`, `idCarta`, `Cantidad`, `PrecioUnitario`, `Precio`) VALUES (%s, %s, %s, %s, %s)]\n",
      "[parameters: [(1, 4, 1, 29.0, 29.0), (1, 5, 1, 29.0, 29.0), (1, 39, 1, 58.0, 58.0), (1, 42, 1, 98.0, 98.0), (1, 96, 2, 34.0, 68.0), (2, 22, 1, 17.0, 17.0), (2, 38, 1, 69.0, 69.0), (2, 39, 1, 58.0, 58.0)  ... displaying 10 of 26 total bound parameter sets ...  (5, 76, 1, 22.0, 22.0), (5, 117, 2, 12.0, 24.0)]]\n",
      "(Background on this error at: https://sqlalche.me/e/20/gkpj)\n"
     ]
    }
   ],
   "source": [
    "load.load_dw(\"Dim_PedidosDetalle\", conn_dw, df_pedidosdetalle)"
   ]
  },
  {
   "cell_type": "code",
   "execution_count": null,
   "metadata": {},
   "outputs": [],
   "source": []
  },
  {
   "cell_type": "code",
   "execution_count": 8,
   "metadata": {},
   "outputs": [
    {
     "name": "stdout",
     "output_type": "stream",
     "text": [
      "apple\n",
      "banana\n",
      "cherry\n"
     ]
    }
   ],
   "source": [
    "fruits = [\"apple\", \"banana\", \"cherry\"]\n",
    "for x in fruits:\n",
    "  print(x)"
   ]
  },
  {
   "cell_type": "code",
   "execution_count": null,
   "metadata": {},
   "outputs": [],
   "source": [
    "df_join  = orders_df.merge(order_items_df, left_on='order_id', right_on='order_item_order_id')\\\n",
    "                    .merge(products_df, left_on='order_item_product_id', right_on='product_id')\\\n",
    "                    .merge(categories_df, left_on='product_category_id', right_on='category_id')\\\n",
    "                    .merge(departments_df, left_on='category_department_id', right_on='department_id')\n",
    "df_join"
   ]
  }
 ],
 "metadata": {
  "kernelspec": {
   "display_name": "Python 3 (ipykernel)",
   "language": "python",
   "name": "python3"
  },
  "language_info": {
   "codemirror_mode": {
    "name": "ipython",
    "version": 3
   },
   "file_extension": ".py",
   "mimetype": "text/x-python",
   "name": "python",
   "nbconvert_exporter": "python",
   "pygments_lexer": "ipython3",
   "version": "3.10.13"
  }
 },
 "nbformat": 4,
 "nbformat_minor": 2
}
