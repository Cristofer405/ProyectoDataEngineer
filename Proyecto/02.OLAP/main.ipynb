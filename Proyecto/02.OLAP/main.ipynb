{
 "cells": [
  {
   "cell_type": "code",
   "execution_count": 1,
   "metadata": {},
   "outputs": [],
   "source": [
    "import pandas as pd\n",
    "from utils import connection as con\n",
    "from etl import extract as ex\n",
    "from etl import load\n",
    "from etl import transform as t"
   ]
  },
  {
   "cell_type": "code",
   "execution_count": 2,
   "metadata": {},
   "outputs": [],
   "source": [
    "conn_db = con.connect_db()\n",
    "conn_dw = con.connect_dw()"
   ]
  },
  {
   "cell_type": "code",
   "execution_count": 3,
   "metadata": {},
   "outputs": [],
   "source": [
    "# Pasamos los datos de las tablas a su DataFrame\n",
    "\n",
    "df_categoria = ex.extract_only_table(\"Categoria\", conn_db)\n",
    "df_subcategoria = ex.extract_only_table(\"SubCategoria\", conn_db)\n",
    "df_carta = ex.extract_only_table(\"Carta\", conn_db)\n",
    "\n",
    "df_mesa = ex.extract_only_table(\"Mesa\", conn_db)\n",
    "df_clientes = ex.extract_only_table(\"Clientes\", conn_db)\n",
    "df_distrito = ex.extract_only_table(\"Distrito\", conn_db).rename(columns={'Descripcion' : 'Distrito'})\n",
    "df_direccion = ex.extract_only_table(\"Direcciones\", conn_db)\n",
    "df_local = ex.extract_only_table(\"Local\", conn_db)\n",
    "df_trabajador = ex.extract_only_table(\"Trabajador\", conn_db)\n",
    "\n",
    "df_pedidosdetalle = ex.extract_only_table(\"PedidosDetalle\", conn_db)\n"
   ]
  },
  {
   "cell_type": "markdown",
   "metadata": {},
   "source": [
    "Reemplazando IDs por descripciones"
   ]
  },
  {
   "cell_type": "code",
   "execution_count": 4,
   "metadata": {},
   "outputs": [],
   "source": [
    "# Reemplazamos el idDistrito por su descripción.\n",
    "df_direccion_dw = df_direccion.merge(df_distrito, on='idDistrito', how='left')[['idDirecciones','Descripcion','Distrito','idClientes','Estado']]\n",
    "\n",
    "df_local_dw = df_local.merge(df_distrito, on='idDistrito', how='left')[['idLocal','NombreLocal','Direccion','Distrito','HorarioAtencion']]\n"
   ]
  },
  {
   "cell_type": "code",
   "execution_count": 5,
   "metadata": {},
   "outputs": [],
   "source": [
    "# Reemplazamos el idCategoria y idSubCategoria para la carta y ponemos sus descripciones.\n",
    "df_carta_dw = df_carta.merge(df_subcategoria.rename(columns={'nombre' : 'SubCategoria'}), on='idSubCategoria', how='left')\\\n",
    "                      .merge(df_categoria.rename(columns={'Nombre' : 'Categoria'}), on='idCategoria', how='left')\\\n",
    "                      [['idCarta','Nombre','Descripcion','Precio','Estado','Categoria','SubCategoria']]\n"
   ]
  },
  {
   "cell_type": "code",
   "execution_count": 6,
   "metadata": {},
   "outputs": [],
   "source": [
    "# Reemplazamos el idLocal por su descripción.\n",
    "df_trabajador_dw = df_trabajador.merge(df_local.rename(columns={'NombreLocal' : 'Local'}), on='idLocal', how='left')\\\n",
    "                                [['idTrabajador','ApellidosNombres','Local']]\n"
   ]
  },
  {
   "cell_type": "markdown",
   "metadata": {},
   "source": [
    "Cargando los datos a las dimensiones"
   ]
  },
  {
   "cell_type": "code",
   "execution_count": null,
   "metadata": {},
   "outputs": [],
   "source": [
    "load.load_dw(\"Dim_Carta\", conn_dw, df_carta_dw)"
   ]
  },
  {
   "cell_type": "code",
   "execution_count": 9,
   "metadata": {},
   "outputs": [],
   "source": [
    "load.load_dw(\"Dim_Mesa\", conn_dw, df_mesa)"
   ]
  },
  {
   "cell_type": "code",
   "execution_count": 10,
   "metadata": {},
   "outputs": [],
   "source": [
    "load.load_dw(\"Dim_Local\", conn_dw, df_local_dw)"
   ]
  },
  {
   "cell_type": "code",
   "execution_count": 11,
   "metadata": {},
   "outputs": [],
   "source": [
    "load.load_dw(\"Dim_Trabajador\", conn_dw, df_trabajador_dw)"
   ]
  },
  {
   "cell_type": "code",
   "execution_count": 12,
   "metadata": {},
   "outputs": [],
   "source": [
    "load.load_dw(\"Dim_Clientes\", conn_dw, df_clientes)"
   ]
  },
  {
   "cell_type": "code",
   "execution_count": 13,
   "metadata": {},
   "outputs": [],
   "source": [
    "load.load_dw(\"Dim_Direcciones\", conn_dw, df_direccion_dw)"
   ]
  },
  {
   "cell_type": "code",
   "execution_count": 8,
   "metadata": {},
   "outputs": [],
   "source": [
    "queryT = \"\"\"\n",
    "SELECT DISTINCT \n",
    "DATE_FORMAT(Fecha, '%%Y%%m%%d') AS idTiempo,\n",
    "YEAR(Fecha) AS Anio,\n",
    "MONTH(Fecha) AS Mes,\n",
    "DAY(Fecha) AS Dia,\n",
    "QUARTER(Fecha) AS Trimestre,\n",
    "DAYOFWEEK(Fecha) AS DiaSemana,\n",
    "DAYOFYEAR(Fecha) AS DiaAnio,\n",
    "WEEK(Fecha) AS SemanaAnio,\n",
    "CASE WHEN DAYOFWEEK(Fecha) IN (1,7) THEN TRUE ELSE FALSE END AS FinSemana\n",
    "FROM Pedidos\n",
    "\"\"\"\n",
    "\n",
    "df_dim_tiempo = t.transform_time_from_pedido(queryT, conn_db)"
   ]
  },
  {
   "cell_type": "code",
   "execution_count": 13,
   "metadata": {},
   "outputs": [],
   "source": [
    "load.load_dw(\"Dim_Tiempo\", conn_dw, df_dim_tiempo)"
   ]
  },
  {
   "cell_type": "code",
   "execution_count": 9,
   "metadata": {},
   "outputs": [],
   "source": [
    "queryP = \"\"\"\n",
    "SELECT\n",
    "P.idPedidos, P.idLocal, P.idMesa, P.idClientes, P.idTrabajador, P.Fecha, P.TipoConsumo, P.idDireccionEnvio,\n",
    "SUM(D.Cantidad) AS ItemsTotal, \n",
    "SUM(D.Precio) AS PrecioTotal,\n",
    "DATE_FORMAT(P.Fecha, '%%Y%%m%%d') AS idTiempo\n",
    "FROM Pedidos P\n",
    "JOIN PedidosDetalle D ON P.idPedidos = D.idPedidos\n",
    "JOIN dw_restaurante.Dim_Tiempo T ON DATE_FORMAT(P.Fecha, '%%Y%%m%%d') = T.idTiempo\n",
    "GROUP BY P.idPedidos\n",
    "\"\"\"\n",
    "\n",
    "df_pedidos = t.transform_time_from_pedido(queryP, conn_db)"
   ]
  },
  {
   "cell_type": "code",
   "execution_count": 11,
   "metadata": {},
   "outputs": [],
   "source": [
    "\n",
    "load.load_dw(\"Hec_Fact_Pedidos\", conn_dw, df_pedidos)"
   ]
  },
  {
   "cell_type": "code",
   "execution_count": 12,
   "metadata": {},
   "outputs": [],
   "source": [
    "load.load_dw(\"Dim_PedidosDetalle\", conn_dw, df_pedidosdetalle)"
   ]
  },
  {
   "cell_type": "code",
   "execution_count": null,
   "metadata": {},
   "outputs": [],
   "source": []
  },
  {
   "cell_type": "code",
   "execution_count": 13,
   "metadata": {},
   "outputs": [
    {
     "name": "stdout",
     "output_type": "stream",
     "text": [
      "Tab01\n",
      "Tab02\n",
      "Tab03\n"
     ]
    }
   ],
   "source": [
    "## Prueba\n",
    "Tablas = [\"Tab01\", \"Tab02\", \"Tab03\"]\n",
    "for x in Tablas:\n",
    "  print(x)"
   ]
  }
 ],
 "metadata": {
  "kernelspec": {
   "display_name": "Python 3 (ipykernel)",
   "language": "python",
   "name": "python3"
  }
 },
 "nbformat": 4,
 "nbformat_minor": 2
}
