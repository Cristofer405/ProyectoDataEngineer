{
 "cells": [
  {
   "cell_type": "code",
   "execution_count": 1,
   "metadata": {},
   "outputs": [],
   "source": [
    "import pandas as pd\n",
    "from utils import connection as con\n",
    "from etl import extract as ex\n",
    "from etl import load\n",
    "from etl import transform as t"
   ]
  },
  {
   "cell_type": "code",
   "execution_count": 2,
   "metadata": {},
   "outputs": [],
   "source": [
    "conn_db = con.connect_db()\n",
    "conn_dw = con.connect_dw()"
   ]
  },
  {
   "cell_type": "code",
   "execution_count": 10,
   "metadata": {},
   "outputs": [],
   "source": [
    "df_mesa = ex.extract_table(\"Mesa\", conn_db)\n",
    "df_clientes = ex.extract_table(\"Clientes\", conn_db)\n",
    "df_pedidosdetalle = ex.extract_table(\"PedidosDetalle\", conn_db)\n",
    "\n",
    "df_categoria = ex.extract_table(\"Categoria\", conn_db)\n",
    "df_subcategoria = ex.extract_table(\"SubCategoria\", conn_db)\n",
    "df_carta = ex.extract_table(\"Carta\", conn_db)"
   ]
  },
  {
   "cell_type": "code",
   "execution_count": 13,
   "metadata": {},
   "outputs": [
    {
     "data": {
      "text/html": [
       "<div>\n",
       "<style scoped>\n",
       "    .dataframe tbody tr th:only-of-type {\n",
       "        vertical-align: middle;\n",
       "    }\n",
       "\n",
       "    .dataframe tbody tr th {\n",
       "        vertical-align: top;\n",
       "    }\n",
       "\n",
       "    .dataframe thead th {\n",
       "        text-align: right;\n",
       "    }\n",
       "</style>\n",
       "<table border=\"1\" class=\"dataframe\">\n",
       "  <thead>\n",
       "    <tr style=\"text-align: right;\">\n",
       "      <th></th>\n",
       "      <th>idCarta</th>\n",
       "      <th>idSubCategoria</th>\n",
       "      <th>Nombre</th>\n",
       "      <th>Descripcion</th>\n",
       "      <th>Precio</th>\n",
       "      <th>Estado</th>\n",
       "    </tr>\n",
       "  </thead>\n",
       "  <tbody>\n",
       "    <tr>\n",
       "      <th>0</th>\n",
       "      <td>1</td>\n",
       "      <td>1</td>\n",
       "      <td>EMPANADAS</td>\n",
       "      <td>a elegir de pastel de choclo o de rocoto relleno</td>\n",
       "      <td>16.0</td>\n",
       "      <td>b'\\x01'</td>\n",
       "    </tr>\n",
       "    <tr>\n",
       "      <th>1</th>\n",
       "      <td>2</td>\n",
       "      <td>1</td>\n",
       "      <td>TAMALITO VERDE</td>\n",
       "      <td>bañado de jugo de seco y acompañado de salsa c...</td>\n",
       "      <td>19.0</td>\n",
       "      <td>b'\\x01'</td>\n",
       "    </tr>\n",
       "    <tr>\n",
       "      <th>2</th>\n",
       "      <td>3</td>\n",
       "      <td>1</td>\n",
       "      <td>PAPA A LA HUANCAÍNA</td>\n",
       "      <td>en una porción generosa para compartir en familia</td>\n",
       "      <td>29.0</td>\n",
       "      <td>b'\\x01'</td>\n",
       "    </tr>\n",
       "    <tr>\n",
       "      <th>3</th>\n",
       "      <td>4</td>\n",
       "      <td>1</td>\n",
       "      <td>OCOPA LIMEÑA</td>\n",
       "      <td>en punto cremoso, con queso frito, huevo y ace...</td>\n",
       "      <td>29.0</td>\n",
       "      <td>b'\\x01'</td>\n",
       "    </tr>\n",
       "    <tr>\n",
       "      <th>4</th>\n",
       "      <td>5</td>\n",
       "      <td>1</td>\n",
       "      <td>PAPA RELLENA</td>\n",
       "      <td>de carne picada a cuchillo, acompañada de crem...</td>\n",
       "      <td>29.0</td>\n",
       "      <td>b'\\x01'</td>\n",
       "    </tr>\n",
       "  </tbody>\n",
       "</table>\n",
       "</div>"
      ],
      "text/plain": [
       "   idCarta  idSubCategoria               Nombre  \\\n",
       "0        1               1            EMPANADAS   \n",
       "1        2               1       TAMALITO VERDE   \n",
       "2        3               1  PAPA A LA HUANCAÍNA   \n",
       "3        4               1         OCOPA LIMEÑA   \n",
       "4        5               1         PAPA RELLENA   \n",
       "\n",
       "                                         Descripcion  Precio   Estado  \n",
       "0   a elegir de pastel de choclo o de rocoto relleno    16.0  b'\\x01'  \n",
       "1  bañado de jugo de seco y acompañado de salsa c...    19.0  b'\\x01'  \n",
       "2  en una porción generosa para compartir en familia    29.0  b'\\x01'  \n",
       "3  en punto cremoso, con queso frito, huevo y ace...    29.0  b'\\x01'  \n",
       "4  de carne picada a cuchillo, acompañada de crem...    29.0  b'\\x01'  "
      ]
     },
     "execution_count": 13,
     "metadata": {},
     "output_type": "execute_result"
    }
   ],
   "source": [
    "df_carta.head()"
   ]
  },
  {
   "cell_type": "code",
   "execution_count": null,
   "metadata": {},
   "outputs": [],
   "source": [
    "df_promedio = orders_df.merge(order_items_df, left_on='order_id', right_on='order_item_order_id', how='left')\n",
    "df_promedio.head()"
   ]
  },
  {
   "cell_type": "code",
   "execution_count": 8,
   "metadata": {},
   "outputs": [
    {
     "name": "stdout",
     "output_type": "stream",
     "text": [
      "apple\n",
      "banana\n",
      "cherry\n"
     ]
    }
   ],
   "source": [
    "fruits = [\"apple\", \"banana\", \"cherry\"]\n",
    "for x in fruits:\n",
    "  print(x)"
   ]
  }
 ],
 "metadata": {
  "kernelspec": {
   "display_name": "Python 3 (ipykernel)",
   "language": "python",
   "name": "python3"
  },
  "language_info": {
   "codemirror_mode": {
    "name": "ipython",
    "version": 3
   },
   "file_extension": ".py",
   "mimetype": "text/x-python",
   "name": "python",
   "nbconvert_exporter": "python",
   "pygments_lexer": "ipython3",
   "version": "3.10.13"
  }
 },
 "nbformat": 4,
 "nbformat_minor": 2
}
