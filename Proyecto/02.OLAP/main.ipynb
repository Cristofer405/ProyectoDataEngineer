{
 "cells": [
  {
   "cell_type": "code",
   "execution_count": 68,
   "metadata": {},
   "outputs": [],
   "source": [
    "import pandas as pd\n",
    "from utils import connection as con\n",
    "from etl import extract as ex\n",
    "from etl import load\n",
    "from etl import transform as t"
   ]
  },
  {
   "cell_type": "code",
   "execution_count": 70,
   "metadata": {},
   "outputs": [],
   "source": [
    "conn_db = con.connect_db()\n",
    "conn_dw = con.connect_dw()"
   ]
  },
  {
   "cell_type": "code",
   "execution_count": 71,
   "metadata": {},
   "outputs": [],
   "source": [
    "# Pasamos los datos de las tablas a su DataFrame\n",
    "\n",
    "df_categoria = ex.extract_only_table(\"Categoria\", conn_db)\n",
    "df_subcategoria = ex.extract_only_table(\"SubCategoria\", conn_db)\n",
    "df_carta = ex.extract_only_table(\"Carta\", conn_db)\n",
    "\n",
    "df_mesa = ex.extract_only_table(\"Mesa\", conn_db)\n",
    "df_clientes = ex.extract_only_table(\"Clientes\", conn_db)\n",
    "df_distrito = ex.extract_only_table(\"Distrito\", conn_db).rename(columns={'Descripcion' : 'Distrito'})\n",
    "df_direccion = ex.extract_only_table(\"Direcciones\", conn_db)\n",
    "df_local = ex.extract_only_table(\"Local\", conn_db)\n",
    "df_trabajador = ex.extract_only_table(\"Trabajador\", conn_db)\n",
    "\n",
    "df_pedidosdetalle = ex.extract_only_table(\"PedidosDetalle\", conn_db)\n"
   ]
  },
  {
   "cell_type": "markdown",
   "metadata": {},
   "source": [
    "Reemplazando IDs por descripciones"
   ]
  },
  {
   "cell_type": "code",
   "execution_count": 72,
   "metadata": {},
   "outputs": [],
   "source": [
    "# Reemplazamos el idDistrito por su descripción.\n",
    "df_direccion_dw = df_direccion.merge(df_distrito, on='idDistrito', how='left')[['idDirecciones','Descripcion','Distrito','idClientes','Estado']]\n",
    "\n",
    "df_local_dw = df_local.merge(df_distrito, on='idDistrito', how='left')[['idLocal','NombreLocal','Direccion','Distrito','HorarioAtencion']]\n"
   ]
  },
  {
   "cell_type": "code",
   "execution_count": 73,
   "metadata": {},
   "outputs": [],
   "source": [
    "# Reemplazamos el idCategoria y idSubCategoria para la carta y ponemos sus descripciones.\n",
    "df_carta_dw = df_carta.merge(df_subcategoria.rename(columns={'nombre' : 'SubCategoria'}), on='idSubCategoria', how='left')\\\n",
    "                      .merge(df_categoria.rename(columns={'Nombre' : 'Categoria'}), on='idCategoria', how='left')\\\n",
    "                      [['idCarta','Nombre','Descripcion','Precio','Estado','Categoria','SubCategoria']]\n"
   ]
  },
  {
   "cell_type": "code",
   "execution_count": 74,
   "metadata": {},
   "outputs": [],
   "source": [
    "# Reemplazamos el idLocal por su descripción.\n",
    "df_trabajador_dw = df_trabajador.merge(df_local.rename(columns={'NombreLocal' : 'Local'}), on='idLocal', how='left')\\\n",
    "                                [['idTrabajador','ApellidosNombres','Local']]\n"
   ]
  },
  {
   "cell_type": "markdown",
   "metadata": {},
   "source": [
    "Cargando los datos a las dimensiones"
   ]
  },
  {
   "cell_type": "code",
   "execution_count": 95,
   "metadata": {},
   "outputs": [
    {
     "ename": "AttributeError",
     "evalue": "module 'etl.load' has no attribute 'load_dw_restaurante'",
     "output_type": "error",
     "traceback": [
      "\u001b[0;31m---------------------------------------------------------------------------\u001b[0m",
      "\u001b[0;31mAttributeError\u001b[0m                            Traceback (most recent call last)",
      "Cell \u001b[0;32mIn[95], line 1\u001b[0m\n\u001b[0;32m----> 1\u001b[0m \u001b[43mload\u001b[49m\u001b[38;5;241;43m.\u001b[39;49m\u001b[43mload_dw_restaurante\u001b[49m(\u001b[38;5;124m\"\u001b[39m\u001b[38;5;124mDim_Carta\u001b[39m\u001b[38;5;124m\"\u001b[39m, conn_dw, df_carta_dw)\n",
      "\u001b[0;31mAttributeError\u001b[0m: module 'etl.load' has no attribute 'load_dw_restaurante'"
     ]
    }
   ],
   "source": [
    "load.load_dw_restaurante(\"Dim_Carta\", conn_dw, df_carta_dw)"
   ]
  },
  {
   "cell_type": "code",
   "execution_count": 77,
   "metadata": {},
   "outputs": [
    {
     "ename": "AttributeError",
     "evalue": "module 'etl.load' has no attribute 'load_dw_restaurante'",
     "output_type": "error",
     "traceback": [
      "\u001b[0;31m---------------------------------------------------------------------------\u001b[0m",
      "\u001b[0;31mAttributeError\u001b[0m                            Traceback (most recent call last)",
      "Cell \u001b[0;32mIn[77], line 1\u001b[0m\n\u001b[0;32m----> 1\u001b[0m \u001b[43mload\u001b[49m\u001b[38;5;241;43m.\u001b[39;49m\u001b[43mload_dw_restaurante\u001b[49m(\u001b[38;5;124m\"\u001b[39m\u001b[38;5;124mDim_Mesa\u001b[39m\u001b[38;5;124m\"\u001b[39m, conn_dw, df_mesa)\n",
      "\u001b[0;31mAttributeError\u001b[0m: module 'etl.load' has no attribute 'load_dw_restaurante'"
     ]
    }
   ],
   "source": [
    "load.load_dw_restaurante(\"Dim_Mesa\", conn_dw, df_mesa)"
   ]
  },
  {
   "cell_type": "code",
   "execution_count": null,
   "metadata": {},
   "outputs": [],
   "source": [
    "load.load_dw_restaurante(\"Dim_Local\", conn_dw, df_local_dw)"
   ]
  },
  {
   "cell_type": "code",
   "execution_count": null,
   "metadata": {},
   "outputs": [],
   "source": [
    "load.load_dw_restaurante(\"Dim_Trabajador\", conn_dw, df_trabajador_dw)"
   ]
  },
  {
   "cell_type": "code",
   "execution_count": null,
   "metadata": {},
   "outputs": [],
   "source": [
    "load.load_dw_restaurante(\"Dim_Clientes\", conn_dw, df_clientes)"
   ]
  },
  {
   "cell_type": "code",
   "execution_count": null,
   "metadata": {},
   "outputs": [],
   "source": [
    "load.load_dw_restaurante(\"Dim_Direcciones\", conn_dw, df_direccion_dw)"
   ]
  },
  {
   "cell_type": "code",
   "execution_count": null,
   "metadata": {},
   "outputs": [],
   "source": [
    "load.load_dw_restaurante(\"Dim_PedidosDetalle\", conn_dw, df_pedidosdetalle)"
   ]
  },
  {
   "cell_type": "code",
   "execution_count": null,
   "metadata": {},
   "outputs": [],
   "source": []
  },
  {
   "cell_type": "code",
   "execution_count": 8,
   "metadata": {},
   "outputs": [
    {
     "name": "stdout",
     "output_type": "stream",
     "text": [
      "apple\n",
      "banana\n",
      "cherry\n"
     ]
    }
   ],
   "source": [
    "fruits = [\"apple\", \"banana\", \"cherry\"]\n",
    "for x in fruits:\n",
    "  print(x)"
   ]
  },
  {
   "cell_type": "code",
   "execution_count": null,
   "metadata": {},
   "outputs": [],
   "source": [
    "df_join  = orders_df.merge(order_items_df, left_on='order_id', right_on='order_item_order_id')\\\n",
    "                    .merge(products_df, left_on='order_item_product_id', right_on='product_id')\\\n",
    "                    .merge(categories_df, left_on='product_category_id', right_on='category_id')\\\n",
    "                    .merge(departments_df, left_on='category_department_id', right_on='department_id')\n",
    "df_join"
   ]
  }
 ],
 "metadata": {
  "kernelspec": {
   "display_name": "Python 3 (ipykernel)",
   "language": "python",
   "name": "python3"
  },
  "language_info": {
   "codemirror_mode": {
    "name": "ipython",
    "version": 3
   },
   "file_extension": ".py",
   "mimetype": "text/x-python",
   "name": "python",
   "nbconvert_exporter": "python",
   "pygments_lexer": "ipython3",
   "version": "3.10.13"
  }
 },
 "nbformat": 4,
 "nbformat_minor": 2
}
